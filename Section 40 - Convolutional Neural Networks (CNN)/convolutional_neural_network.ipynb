{
 "cells": [
  {
   "cell_type": "markdown",
   "metadata": {
    "colab_type": "text",
    "id": "3DR-eO17geWu"
   },
   "source": [
    "# Convolutional Neural Network"
   ]
  },
  {
   "cell_type": "markdown",
   "metadata": {
    "colab_type": "text",
    "id": "EMefrVPCg-60"
   },
   "source": [
    "### Importing the libraries"
   ]
  },
  {
   "cell_type": "code",
   "execution_count": 12,
   "metadata": {
    "colab": {},
    "colab_type": "code",
    "id": "sCV30xyVhFbE"
   },
   "outputs": [],
   "source": [
    "import tensorflow as tf\n",
    "import numpy as np\n",
    "from keras.preprocessing.image import ImageDataGenerator"
   ]
  },
  {
   "cell_type": "code",
   "execution_count": 2,
   "metadata": {
    "colab": {},
    "colab_type": "code",
    "id": "FIleuCAjoFD8"
   },
   "outputs": [
    {
     "data": {
      "text/plain": [
       "'2.4.0'"
      ]
     },
     "execution_count": 2,
     "metadata": {},
     "output_type": "execute_result"
    }
   ],
   "source": [
    "tf.__version__"
   ]
  },
  {
   "cell_type": "markdown",
   "metadata": {
    "colab_type": "text",
    "id": "oxQxCBWyoGPE"
   },
   "source": [
    "## Part 1 - Data Preprocessing"
   ]
  },
  {
   "cell_type": "markdown",
   "metadata": {
    "colab_type": "text",
    "id": "MvE-heJNo3GG"
   },
   "source": [
    "### Preprocessing the Training set"
   ]
  },
  {
   "cell_type": "code",
   "execution_count": 3,
   "metadata": {
    "colab": {},
    "colab_type": "code",
    "id": "0koUcJMJpEBD"
   },
   "outputs": [
    {
     "name": "stdout",
     "output_type": "stream",
     "text": [
      "Found 8000 images belonging to 2 classes.\n"
     ]
    }
   ],
   "source": [
    "train_datagen = ImageDataGenerator(rescale = 1./255, # scale to 0 ~ 1\n",
    "                                   shear_range = 0.2, # rotation\n",
    "                                   zoom_range = 0.2, # random zoom effect\n",
    "                                   horizontal_flip = True) # random flip\n",
    "\n",
    "training_set = train_datagen.flow_from_directory('dataset/training_set',\n",
    "                                                 target_size = (64, 64),\n",
    "                                                 batch_size = 32,\n",
    "                                                 class_mode = 'binary')\n"
   ]
  },
  {
   "cell_type": "code",
   "execution_count": 55,
   "metadata": {},
   "outputs": [
    {
     "data": {
      "text/plain": [
       "(64, 64, 3)"
      ]
     },
     "execution_count": 55,
     "metadata": {},
     "output_type": "execute_result"
    }
   ],
   "source": [
    "### additional testing\n",
    "\n",
    "#print(np.shape(training_set))\n",
    "#len(training_set[0])\n",
    "\n",
    "# 250 batches?\n",
    "# 250 x 2 x 32 x 64 x 64 x 3\n",
    "\n",
    "training_set.image_shape"
   ]
  },
  {
   "cell_type": "markdown",
   "metadata": {
    "colab_type": "text",
    "id": "mrCMmGw9pHys"
   },
   "source": [
    "### Preprocessing the Test set"
   ]
  },
  {
   "cell_type": "code",
   "execution_count": 28,
   "metadata": {
    "colab": {},
    "colab_type": "code",
    "id": "SH4WzfOhpKc3"
   },
   "outputs": [
    {
     "name": "stdout",
     "output_type": "stream",
     "text": [
      "Found 2000 images belonging to 2 classes.\n"
     ]
    }
   ],
   "source": [
    "test_datagen = ImageDataGenerator(rescale = 1./255)\n",
    "test_set = test_datagen.flow_from_directory('dataset/test_set',\n",
    "                                            target_size = (64, 64),\n",
    "                                            batch_size = 32,\n",
    "                                            class_mode = 'binary')"
   ]
  },
  {
   "cell_type": "markdown",
   "metadata": {
    "colab_type": "text",
    "id": "af8O4l90gk7B"
   },
   "source": [
    "## Part 2 - Building the CNN"
   ]
  },
  {
   "cell_type": "markdown",
   "metadata": {
    "colab_type": "text",
    "id": "ces1gXY2lmoX"
   },
   "source": [
    "### Initialising the CNN"
   ]
  },
  {
   "cell_type": "code",
   "execution_count": 29,
   "metadata": {
    "colab": {},
    "colab_type": "code",
    "id": "SAUt4UMPlhLS"
   },
   "outputs": [],
   "source": [
    "cnn = tf.keras.models.Sequential()"
   ]
  },
  {
   "cell_type": "markdown",
   "metadata": {
    "colab_type": "text",
    "id": "u5YJj_XMl5LF"
   },
   "source": [
    "### Step 1 - Convolution"
   ]
  },
  {
   "cell_type": "code",
   "execution_count": 30,
   "metadata": {
    "colab": {},
    "colab_type": "code",
    "id": "XPzPrMckl-hV"
   },
   "outputs": [],
   "source": [
    "cnn.add(tf.keras.layers.Conv2D(filters=32, kernel_size=3, activation='relu', input_shape=[64, 64, 3]))"
   ]
  },
  {
   "cell_type": "markdown",
   "metadata": {
    "colab_type": "text",
    "id": "tf87FpvxmNOJ"
   },
   "source": [
    "### Step 2 - Pooling"
   ]
  },
  {
   "cell_type": "code",
   "execution_count": 31,
   "metadata": {
    "colab": {},
    "colab_type": "code",
    "id": "ncpqPl69mOac"
   },
   "outputs": [],
   "source": [
    "cnn.add(tf.keras.layers.MaxPool2D(pool_size=2, strides=2))"
   ]
  },
  {
   "cell_type": "markdown",
   "metadata": {
    "colab_type": "text",
    "id": "xaTOgD8rm4mU"
   },
   "source": [
    "### Adding a second convolutional layer"
   ]
  },
  {
   "cell_type": "code",
   "execution_count": 32,
   "metadata": {
    "colab": {},
    "colab_type": "code",
    "id": "i_-FZjn_m8gk"
   },
   "outputs": [],
   "source": [
    "cnn.add(tf.keras.layers.Conv2D(filters=32, kernel_size=3, activation='relu'))\n",
    "cnn.add(tf.keras.layers.MaxPool2D(pool_size=2, strides=2))"
   ]
  },
  {
   "cell_type": "markdown",
   "metadata": {
    "colab_type": "text",
    "id": "tmiEuvTunKfk"
   },
   "source": [
    "### Step 3 - Flattening"
   ]
  },
  {
   "cell_type": "code",
   "execution_count": 33,
   "metadata": {
    "colab": {},
    "colab_type": "code",
    "id": "6AZeOGCvnNZn"
   },
   "outputs": [],
   "source": [
    "cnn.add(tf.keras.layers.Flatten())"
   ]
  },
  {
   "cell_type": "markdown",
   "metadata": {
    "colab_type": "text",
    "id": "dAoSECOm203v"
   },
   "source": [
    "### Step 4 - Full Connection"
   ]
  },
  {
   "cell_type": "code",
   "execution_count": 34,
   "metadata": {
    "colab": {},
    "colab_type": "code",
    "id": "8GtmUlLd26Nq"
   },
   "outputs": [],
   "source": [
    "cnn.add(tf.keras.layers.Dense(units=128, activation='relu'))"
   ]
  },
  {
   "cell_type": "markdown",
   "metadata": {
    "colab_type": "text",
    "id": "yTldFvbX28Na"
   },
   "source": [
    "### Step 5 - Output Layer"
   ]
  },
  {
   "cell_type": "code",
   "execution_count": 35,
   "metadata": {
    "colab": {},
    "colab_type": "code",
    "id": "1p_Zj1Mc3Ko_"
   },
   "outputs": [],
   "source": [
    "cnn.add(tf.keras.layers.Dense(units=1, activation='sigmoid'))"
   ]
  },
  {
   "cell_type": "markdown",
   "metadata": {
    "colab_type": "text",
    "id": "D6XkI90snSDl"
   },
   "source": [
    "## Part 3 - Training the CNN"
   ]
  },
  {
   "cell_type": "markdown",
   "metadata": {
    "colab_type": "text",
    "id": "vfrFQACEnc6i"
   },
   "source": [
    "### Compiling the CNN"
   ]
  },
  {
   "cell_type": "code",
   "execution_count": 36,
   "metadata": {
    "colab": {},
    "colab_type": "code",
    "id": "NALksrNQpUlJ"
   },
   "outputs": [],
   "source": [
    "cnn.compile(optimizer = 'adam', loss = 'binary_crossentropy', metrics = ['accuracy'])"
   ]
  },
  {
   "cell_type": "markdown",
   "metadata": {
    "colab_type": "text",
    "id": "ehS-v3MIpX2h"
   },
   "source": [
    "### Training the CNN on the Training set and evaluating it on the Test set"
   ]
  },
  {
   "cell_type": "code",
   "execution_count": 37,
   "metadata": {
    "colab": {},
    "colab_type": "code",
    "id": "XUj1W4PJptta"
   },
   "outputs": [
    {
     "name": "stdout",
     "output_type": "stream",
     "text": [
      "Epoch 1/25\n",
      "250/250 [==============================] - 52s 206ms/step - loss: 0.6755 - accuracy: 0.5715 - val_loss: 0.6122 - val_accuracy: 0.6770\n",
      "Epoch 2/25\n",
      "250/250 [==============================] - 51s 204ms/step - loss: 0.5860 - accuracy: 0.6939 - val_loss: 0.5423 - val_accuracy: 0.7515\n",
      "Epoch 3/25\n",
      "250/250 [==============================] - 51s 203ms/step - loss: 0.5445 - accuracy: 0.7265 - val_loss: 0.5396 - val_accuracy: 0.7345\n",
      "Epoch 4/25\n",
      "250/250 [==============================] - 61s 244ms/step - loss: 0.5077 - accuracy: 0.7505 - val_loss: 0.5163 - val_accuracy: 0.7490\n",
      "Epoch 5/25\n",
      "250/250 [==============================] - 67s 268ms/step - loss: 0.4994 - accuracy: 0.7562 - val_loss: 0.4955 - val_accuracy: 0.7670\n",
      "Epoch 6/25\n",
      "250/250 [==============================] - 66s 264ms/step - loss: 0.4703 - accuracy: 0.7752 - val_loss: 0.5235 - val_accuracy: 0.7415\n",
      "Epoch 7/25\n",
      "250/250 [==============================] - 53s 213ms/step - loss: 0.4557 - accuracy: 0.7899 - val_loss: 0.4786 - val_accuracy: 0.7625\n",
      "Epoch 8/25\n",
      "250/250 [==============================] - 69s 275ms/step - loss: 0.4345 - accuracy: 0.7956 - val_loss: 0.4483 - val_accuracy: 0.7920\n",
      "Epoch 9/25\n",
      "250/250 [==============================] - 60s 238ms/step - loss: 0.4164 - accuracy: 0.8073 - val_loss: 0.4712 - val_accuracy: 0.7830\n",
      "Epoch 10/25\n",
      "250/250 [==============================] - 50s 200ms/step - loss: 0.3991 - accuracy: 0.8197 - val_loss: 0.4359 - val_accuracy: 0.8085\n",
      "Epoch 11/25\n",
      "250/250 [==============================] - 51s 202ms/step - loss: 0.3751 - accuracy: 0.8331 - val_loss: 0.4314 - val_accuracy: 0.8050\n",
      "Epoch 12/25\n",
      "250/250 [==============================] - 50s 202ms/step - loss: 0.3719 - accuracy: 0.8364 - val_loss: 0.4412 - val_accuracy: 0.7965\n",
      "Epoch 13/25\n",
      "250/250 [==============================] - 51s 203ms/step - loss: 0.3565 - accuracy: 0.8485 - val_loss: 0.4400 - val_accuracy: 0.8095\n",
      "Epoch 14/25\n",
      "250/250 [==============================] - 50s 201ms/step - loss: 0.3469 - accuracy: 0.8411 - val_loss: 0.4351 - val_accuracy: 0.8070\n",
      "Epoch 15/25\n",
      "250/250 [==============================] - 50s 201ms/step - loss: 0.3283 - accuracy: 0.8569 - val_loss: 0.4536 - val_accuracy: 0.8085\n",
      "Epoch 16/25\n",
      "250/250 [==============================] - 51s 206ms/step - loss: 0.3086 - accuracy: 0.8674 - val_loss: 0.4798 - val_accuracy: 0.8085\n",
      "Epoch 17/25\n",
      "250/250 [==============================] - 50s 199ms/step - loss: 0.2940 - accuracy: 0.8750 - val_loss: 0.4462 - val_accuracy: 0.8090\n",
      "Epoch 18/25\n",
      "250/250 [==============================] - 55s 219ms/step - loss: 0.2999 - accuracy: 0.8706 - val_loss: 0.5086 - val_accuracy: 0.8025\n",
      "Epoch 19/25\n",
      "250/250 [==============================] - 57s 227ms/step - loss: 0.2696 - accuracy: 0.8817 - val_loss: 0.4646 - val_accuracy: 0.8165\n",
      "Epoch 20/25\n",
      "250/250 [==============================] - 50s 199ms/step - loss: 0.2366 - accuracy: 0.9002 - val_loss: 0.5035 - val_accuracy: 0.8135\n",
      "Epoch 21/25\n",
      "250/250 [==============================] - 49s 197ms/step - loss: 0.2345 - accuracy: 0.9018 - val_loss: 0.5097 - val_accuracy: 0.8020\n",
      "Epoch 22/25\n",
      "250/250 [==============================] - 50s 198ms/step - loss: 0.2338 - accuracy: 0.9041 - val_loss: 0.4954 - val_accuracy: 0.8065\n",
      "Epoch 23/25\n",
      "250/250 [==============================] - 54s 215ms/step - loss: 0.2053 - accuracy: 0.9165 - val_loss: 0.5031 - val_accuracy: 0.8105\n",
      "Epoch 24/25\n",
      "250/250 [==============================] - 67s 269ms/step - loss: 0.2131 - accuracy: 0.9154 - val_loss: 0.5824 - val_accuracy: 0.7995\n",
      "Epoch 25/25\n",
      "250/250 [==============================] - 80s 321ms/step - loss: 0.1861 - accuracy: 0.9254 - val_loss: 0.5536 - val_accuracy: 0.8115\n"
     ]
    },
    {
     "data": {
      "text/plain": [
       "<tensorflow.python.keras.callbacks.History at 0x1c6b8bec790>"
      ]
     },
     "execution_count": 37,
     "metadata": {},
     "output_type": "execute_result"
    }
   ],
   "source": [
    "cnn.fit(x = training_set, validation_data = test_set, epochs = 25)"
   ]
  },
  {
   "cell_type": "markdown",
   "metadata": {
    "colab_type": "text",
    "id": "U3PZasO0006Z"
   },
   "source": [
    "## Part 4 - Making a single prediction"
   ]
  },
  {
   "cell_type": "markdown",
   "metadata": {},
   "source": [
    "need to add extra dimension ... for the batches dimension, same as the training data\n",
    "test_image = np.expand_dims(test_image, axis = 0)\n"
   ]
  },
  {
   "cell_type": "code",
   "execution_count": 58,
   "metadata": {
    "colab": {},
    "colab_type": "code",
    "id": "gsSiWEJY1BPB"
   },
   "outputs": [
    {
     "name": "stdout",
     "output_type": "stream",
     "text": [
      "(64, 64, 3)\n",
      "(1, 64, 64, 3)\n"
     ]
    }
   ],
   "source": [
    "import numpy as np\n",
    "from keras.preprocessing import image\n",
    "test_image = image.load_img('dataset/single_prediction/cat_or_dog_1.jpg', target_size = (64, 64))\n",
    "\n",
    "test_image = image.img_to_array(test_image)\n",
    "print(np.shape(test_image)) # 64 x 64 x 3\n",
    "\n",
    "test_image = np.expand_dims(test_image, axis = 0)\n",
    "print(np.shape(test_image)) # 1 x 64 x 64 x 3\n",
    "\n",
    "result = cnn.predict(test_image)\n",
    "training_set.class_indices\n",
    "if result[0][0] == 1: # should be result[0][0] > 0.5\n",
    "  prediction = 'dog'\n",
    "else:\n",
    "  prediction = 'cat'"
   ]
  },
  {
   "cell_type": "code",
   "execution_count": 59,
   "metadata": {
    "colab": {},
    "colab_type": "code",
    "id": "ED9KB3I54c1i"
   },
   "outputs": [
    {
     "name": "stdout",
     "output_type": "stream",
     "text": [
      "dog\n"
     ]
    }
   ],
   "source": [
    "print(prediction)"
   ]
  },
  {
   "cell_type": "code",
   "execution_count": null,
   "metadata": {},
   "outputs": [],
   "source": []
  }
 ],
 "metadata": {
  "colab": {
   "collapsed_sections": [],
   "name": "convolutional_neural_network.ipynb",
   "provenance": [],
   "toc_visible": true
  },
  "kernelspec": {
   "display_name": "Python 3",
   "language": "python",
   "name": "python3"
  },
  "language_info": {
   "codemirror_mode": {
    "name": "ipython",
    "version": 3
   },
   "file_extension": ".py",
   "mimetype": "text/x-python",
   "name": "python",
   "nbconvert_exporter": "python",
   "pygments_lexer": "ipython3",
   "version": "3.8.5"
  }
 },
 "nbformat": 4,
 "nbformat_minor": 1
}
