{
 "cells": [
  {
   "cell_type": "markdown",
   "metadata": {
    "colab_type": "text",
    "id": "lP6JLo1tGNBg"
   },
   "source": [
    "# Artificial Neural Network"
   ]
  },
  {
   "cell_type": "markdown",
   "metadata": {
    "colab_type": "text",
    "id": "gWZyYmS_UE_L"
   },
   "source": [
    "### Importing the libraries"
   ]
  },
  {
   "cell_type": "code",
   "execution_count": 63,
   "metadata": {
    "colab": {},
    "colab_type": "code",
    "id": "MxkJoQBkUIHC"
   },
   "outputs": [],
   "source": [
    "import numpy as np\n",
    "import pandas as pd\n",
    "import tensorflow as tf"
   ]
  },
  {
   "cell_type": "code",
   "execution_count": 64,
   "metadata": {
    "colab": {
     "base_uri": "https://localhost:8080/",
     "height": 34
    },
    "colab_type": "code",
    "executionInfo": {
     "elapsed": 2400,
     "status": "ok",
     "timestamp": 1590257449959,
     "user": {
      "displayName": "Hadelin de Ponteves",
      "photoUrl": "https://lh3.googleusercontent.com/a-/AOh14GhEuXdT7eQweUmRPW8_laJuPggSK6hfvpl5a6WBaA=s64",
      "userId": "15047218817161520419"
     },
     "user_tz": -240
    },
    "id": "ZaTwK7ojXr2F",
    "outputId": "0b27a96d-d11a-43e8-ab4b-87c1f01896fe"
   },
   "outputs": [
    {
     "data": {
      "text/plain": [
       "'2.4.0'"
      ]
     },
     "execution_count": 64,
     "metadata": {},
     "output_type": "execute_result"
    }
   ],
   "source": [
    "tf.__version__"
   ]
  },
  {
   "cell_type": "markdown",
   "metadata": {
    "colab_type": "text",
    "id": "1E0Q3aoKUCRX"
   },
   "source": [
    "## Part 1 - Data Preprocessing"
   ]
  },
  {
   "cell_type": "markdown",
   "metadata": {
    "colab_type": "text",
    "id": "cKWAkFVGUU0Z"
   },
   "source": [
    "### Importing the dataset"
   ]
  },
  {
   "cell_type": "code",
   "execution_count": 65,
   "metadata": {
    "colab": {},
    "colab_type": "code",
    "id": "MXUkhkMfU4wq"
   },
   "outputs": [],
   "source": [
    "dataset = pd.read_csv('Churn_Modelling.csv') # load csv file\n",
    "\n",
    "# column 0-2 is irrelavent to the classification, so start from 3 to -1 (just before last column)\n",
    "X = dataset.iloc[:, 3:-1].values \n",
    "\n",
    "# it is the result, the last column\n",
    "y = dataset.iloc[:, -1].values "
   ]
  },
  {
   "cell_type": "code",
   "execution_count": 66,
   "metadata": {
    "colab": {
     "base_uri": "https://localhost:8080/",
     "height": 137
    },
    "colab_type": "code",
    "executionInfo": {
     "elapsed": 2396,
     "status": "ok",
     "timestamp": 1590257449961,
     "user": {
      "displayName": "Hadelin de Ponteves",
      "photoUrl": "https://lh3.googleusercontent.com/a-/AOh14GhEuXdT7eQweUmRPW8_laJuPggSK6hfvpl5a6WBaA=s64",
      "userId": "15047218817161520419"
     },
     "user_tz": -240
    },
    "id": "VYP9cQTWbzuI",
    "outputId": "797e7a64-9bac-436a-8c9c-94437e5e7587"
   },
   "outputs": [
    {
     "name": "stdout",
     "output_type": "stream",
     "text": [
      "[[619 'France' 'Female' ... 1 1 101348.88]\n",
      " [608 'Spain' 'Female' ... 0 1 112542.58]\n",
      " [502 'France' 'Female' ... 1 0 113931.57]\n",
      " ...\n",
      " [709 'France' 'Female' ... 0 1 42085.58]\n",
      " [772 'Germany' 'Male' ... 1 0 92888.52]\n",
      " [792 'France' 'Female' ... 1 0 38190.78]]\n"
     ]
    }
   ],
   "source": [
    "print(X)"
   ]
  },
  {
   "cell_type": "code",
   "execution_count": 67,
   "metadata": {
    "colab": {
     "base_uri": "https://localhost:8080/",
     "height": 34
    },
    "colab_type": "code",
    "executionInfo": {
     "elapsed": 2391,
     "status": "ok",
     "timestamp": 1590257449961,
     "user": {
      "displayName": "Hadelin de Ponteves",
      "photoUrl": "https://lh3.googleusercontent.com/a-/AOh14GhEuXdT7eQweUmRPW8_laJuPggSK6hfvpl5a6WBaA=s64",
      "userId": "15047218817161520419"
     },
     "user_tz": -240
    },
    "id": "38vKGE6Nb2RR",
    "outputId": "a815e42a-e0dd-4cb5-ab97-b17ead98fbc3"
   },
   "outputs": [
    {
     "name": "stdout",
     "output_type": "stream",
     "text": [
      "[1 0 1 ... 1 1 0]\n"
     ]
    }
   ],
   "source": [
    "print(y)"
   ]
  },
  {
   "cell_type": "markdown",
   "metadata": {},
   "source": [
    "### Additional Testing"
   ]
  },
  {
   "cell_type": "code",
   "execution_count": 68,
   "metadata": {
    "scrolled": true
   },
   "outputs": [
    {
     "name": "stdout",
     "output_type": "stream",
     "text": [
      "[502 'France' 'Female' 42 8 159660.8 3 1 0 113931.57]\n"
     ]
    }
   ],
   "source": [
    "print(X[2]) # example get the row of 3"
   ]
  },
  {
   "cell_type": "code",
   "execution_count": 69,
   "metadata": {
    "scrolled": true
   },
   "outputs": [
    {
     "name": "stdout",
     "output_type": "stream",
     "text": [
      "[619 608 502 ... 709 772 792]\n"
     ]
    }
   ],
   "source": [
    "print(X[:,0]) # example to get first column"
   ]
  },
  {
   "cell_type": "code",
   "execution_count": 70,
   "metadata": {},
   "outputs": [
    {
     "name": "stdout",
     "output_type": "stream",
     "text": [
      "[101348.88 112542.58 113931.57 ... 42085.58 92888.52 38190.78]\n"
     ]
    }
   ],
   "source": [
    "print(X[:,-1]) # last column"
   ]
  },
  {
   "cell_type": "markdown",
   "metadata": {
    "colab_type": "text",
    "id": "N6bQ0UgSU-NJ"
   },
   "source": [
    "### Encoding categorical data"
   ]
  },
  {
   "cell_type": "markdown",
   "metadata": {
    "colab_type": "text",
    "id": "le5MJreAbW52"
   },
   "source": [
    "Label Encoding the \"Gender\" column"
   ]
  },
  {
   "cell_type": "markdown",
   "metadata": {},
   "source": [
    "need to use LabelEncoder and then fit_transform\n",
    "\n",
    "fit_transform(partData)是先對partData作fit()的功能，找到該partData的整體統計特性之指標，如平均值、標準差、最大最小值等等(能依據不同目的套用這些指標在不同的轉換(即後面的transform()動作)上，再實行transform(partData)以對partData進行標準化(英文稱為normalization, 主要有兩種方法: min-max normalization or standard deviation normalization)或歸一化等動作."
   ]
  },
  {
   "cell_type": "code",
   "execution_count": 71,
   "metadata": {
    "colab": {},
    "colab_type": "code",
    "id": "PxVKWXxLbczC"
   },
   "outputs": [],
   "source": [
    "from sklearn.preprocessing import LabelEncoder\n",
    "le = LabelEncoder()\n",
    "X[:, 2] = le.fit_transform(X[:, 2])"
   ]
  },
  {
   "cell_type": "code",
   "execution_count": 72,
   "metadata": {
    "colab": {
     "base_uri": "https://localhost:8080/",
     "height": 137
    },
    "colab_type": "code",
    "executionInfo": {
     "elapsed": 2719,
     "status": "ok",
     "timestamp": 1590257450295,
     "user": {
      "displayName": "Hadelin de Ponteves",
      "photoUrl": "https://lh3.googleusercontent.com/a-/AOh14GhEuXdT7eQweUmRPW8_laJuPggSK6hfvpl5a6WBaA=s64",
      "userId": "15047218817161520419"
     },
     "user_tz": -240
    },
    "id": "-M1KboxFb6OO",
    "outputId": "e2b8c7e8-0cbc-4cdf-f4eb-7f0853a00b88"
   },
   "outputs": [
    {
     "name": "stdout",
     "output_type": "stream",
     "text": [
      "[[619 'France' 0 ... 1 1 101348.88]\n",
      " [608 'Spain' 0 ... 0 1 112542.58]\n",
      " [502 'France' 0 ... 1 0 113931.57]\n",
      " ...\n",
      " [709 'France' 0 ... 0 1 42085.58]\n",
      " [772 'Germany' 1 ... 1 0 92888.52]\n",
      " [792 'France' 0 ... 1 0 38190.78]]\n"
     ]
    }
   ],
   "source": [
    "print(X)"
   ]
  },
  {
   "cell_type": "markdown",
   "metadata": {
    "colab_type": "text",
    "id": "CUxGZezpbMcb"
   },
   "source": [
    "One Hot Encoding the \"Geography\" column"
   ]
  },
  {
   "cell_type": "markdown",
   "metadata": {},
   "source": [
    "### Additional Comment\n",
    "Label Encoder => no additional column is added\n",
    "OneHotEncoder => additional columns have been added and use only 0.0 and 1.0 to represent the value,\n",
    "such as 1.0 0.0 0.0 to represent France, 0.0 0.0 1.0 to represent Spain\n",
    "\n",
    "pandas is also able to do the OneHotEncoding\n",
    "\n",
    "data_dum = pd.get_dummies(data)\n",
    "pd.DataFrame(data_dum)"
   ]
  },
  {
   "cell_type": "code",
   "execution_count": 73,
   "metadata": {
    "colab": {},
    "colab_type": "code",
    "id": "AMXC8-KMVirw"
   },
   "outputs": [],
   "source": [
    "from sklearn.compose import ColumnTransformer\n",
    "from sklearn.preprocessing import OneHotEncoder\n",
    "ct = ColumnTransformer(transformers=[('encoder', OneHotEncoder(), [1])], remainder='passthrough')\n",
    "X = np.array(ct.fit_transform(X))"
   ]
  },
  {
   "cell_type": "code",
   "execution_count": 74,
   "metadata": {
    "colab": {
     "base_uri": "https://localhost:8080/",
     "height": 137
    },
    "colab_type": "code",
    "executionInfo": {
     "elapsed": 2713,
     "status": "ok",
     "timestamp": 1590257450296,
     "user": {
      "displayName": "Hadelin de Ponteves",
      "photoUrl": "https://lh3.googleusercontent.com/a-/AOh14GhEuXdT7eQweUmRPW8_laJuPggSK6hfvpl5a6WBaA=s64",
      "userId": "15047218817161520419"
     },
     "user_tz": -240
    },
    "id": "ZcxwEon-b8nV",
    "outputId": "23a98af4-5e33-4b26-c27b-f06e3c5d2baf"
   },
   "outputs": [
    {
     "name": "stdout",
     "output_type": "stream",
     "text": [
      "[[1.0 0.0 0.0 ... 1 1 101348.88]\n",
      " [0.0 0.0 1.0 ... 0 1 112542.58]\n",
      " [1.0 0.0 0.0 ... 1 0 113931.57]\n",
      " ...\n",
      " [1.0 0.0 0.0 ... 0 1 42085.58]\n",
      " [0.0 1.0 0.0 ... 1 0 92888.52]\n",
      " [1.0 0.0 0.0 ... 1 0 38190.78]]\n"
     ]
    }
   ],
   "source": [
    "print(X)"
   ]
  },
  {
   "cell_type": "markdown",
   "metadata": {
    "colab_type": "text",
    "id": "vHol938cW8zd"
   },
   "source": [
    "### Splitting the dataset into the Training set and Test set"
   ]
  },
  {
   "cell_type": "code",
   "execution_count": 75,
   "metadata": {
    "colab": {},
    "colab_type": "code",
    "id": "Z-TDt0Y_XEfc"
   },
   "outputs": [],
   "source": [
    "from sklearn.model_selection import train_test_split\n",
    "X_train, X_test, y_train, y_test = train_test_split(X, y, test_size = 0.2, random_state = 0)"
   ]
  },
  {
   "cell_type": "markdown",
   "metadata": {
    "colab_type": "text",
    "id": "RE_FcHyfV3TQ"
   },
   "source": [
    "### Feature Scaling"
   ]
  },
  {
   "cell_type": "markdown",
   "metadata": {},
   "source": [
    "fit(): Method calculates the parameters μ and σ and saves them as internal objects.\n",
    "\n",
    "preprocessing这个模块还提供了一个实用类StandarScaler，它可以在训练数据集上做了标准转换操作之后，把相同的转换应用到测试训练集中。\n",
    "\n",
    "这是相当好的一个功能。可以对训练数据，测试数据应用相同的转换，以后有新的数据进来也可以直接调用，不用再重新把数据放在一起再计算一次了。"
   ]
  },
  {
   "cell_type": "code",
   "execution_count": 76,
   "metadata": {
    "colab": {},
    "colab_type": "code",
    "id": "ViCrE00rV8Sk"
   },
   "outputs": [],
   "source": [
    "from sklearn.preprocessing import StandardScaler\n",
    "sc = StandardScaler()\n",
    "X_train = sc.fit_transform(X_train)\n",
    "X_test = sc.transform(X_test)"
   ]
  },
  {
   "cell_type": "code",
   "execution_count": 77,
   "metadata": {},
   "outputs": [
    {
     "name": "stdout",
     "output_type": "stream",
     "text": [
      "[[-1.01460667 -0.5698444   1.74309049 ...  0.64259497 -1.03227043\n",
      "   1.10643166]\n",
      " [-1.01460667  1.75486502 -0.57369368 ...  0.64259497  0.9687384\n",
      "  -0.74866447]\n",
      " [ 0.98560362 -0.5698444  -0.57369368 ...  0.64259497 -1.03227043\n",
      "   1.48533467]\n",
      " ...\n",
      " [ 0.98560362 -0.5698444  -0.57369368 ...  0.64259497 -1.03227043\n",
      "   1.41231994]\n",
      " [-1.01460667 -0.5698444   1.74309049 ...  0.64259497  0.9687384\n",
      "   0.84432121]\n",
      " [-1.01460667  1.75486502 -0.57369368 ...  0.64259497 -1.03227043\n",
      "   0.32472465]]\n"
     ]
    }
   ],
   "source": [
    "print(X_train)"
   ]
  },
  {
   "cell_type": "markdown",
   "metadata": {
    "colab_type": "text",
    "id": "-zfEzkRVXIwF"
   },
   "source": [
    "## Part 2 - Building the ANN"
   ]
  },
  {
   "cell_type": "markdown",
   "metadata": {
    "colab_type": "text",
    "id": "KvdeScabXtlB"
   },
   "source": [
    "### Initializing the ANN"
   ]
  },
  {
   "cell_type": "markdown",
   "metadata": {},
   "source": [
    "a sequence of layers and just like a computational graph"
   ]
  },
  {
   "cell_type": "code",
   "execution_count": 78,
   "metadata": {
    "colab": {},
    "colab_type": "code",
    "id": "3dtrScHxXQox"
   },
   "outputs": [],
   "source": [
    "ann = tf.keras.models.Sequential()"
   ]
  },
  {
   "cell_type": "markdown",
   "metadata": {
    "colab_type": "text",
    "id": "rP6urV6SX7kS"
   },
   "source": [
    "### Adding the input layer and the first hidden layer"
   ]
  },
  {
   "cell_type": "markdown",
   "metadata": {},
   "source": [
    "add a fully connectioned layer"
   ]
  },
  {
   "cell_type": "code",
   "execution_count": 79,
   "metadata": {
    "colab": {},
    "colab_type": "code",
    "id": "bppGycBXYCQr"
   },
   "outputs": [],
   "source": [
    "ann.add(tf.keras.layers.Dense(units=6, activation='relu'))"
   ]
  },
  {
   "cell_type": "markdown",
   "metadata": {
    "colab_type": "text",
    "id": "BELWAc_8YJze"
   },
   "source": [
    "### Adding the second hidden layer"
   ]
  },
  {
   "cell_type": "code",
   "execution_count": 80,
   "metadata": {
    "colab": {},
    "colab_type": "code",
    "id": "JneR0u0sYRTd"
   },
   "outputs": [],
   "source": [
    "ann.add(tf.keras.layers.Dense(units=6, activation='relu'))"
   ]
  },
  {
   "cell_type": "markdown",
   "metadata": {
    "colab_type": "text",
    "id": "OyNEe6RXYcU4"
   },
   "source": [
    "### Adding the output layer"
   ]
  },
  {
   "cell_type": "code",
   "execution_count": 81,
   "metadata": {
    "colab": {},
    "colab_type": "code",
    "id": "Cn3x41RBYfvY"
   },
   "outputs": [],
   "source": [
    "ann.add(tf.keras.layers.Dense(units=1, activation='sigmoid'))"
   ]
  },
  {
   "cell_type": "markdown",
   "metadata": {
    "colab_type": "text",
    "id": "JT4u2S1_Y4WG"
   },
   "source": [
    "## Part 3 - Training the ANN"
   ]
  },
  {
   "cell_type": "markdown",
   "metadata": {
    "colab_type": "text",
    "id": "8GWlJChhY_ZI"
   },
   "source": [
    "### Compiling the ANN"
   ]
  },
  {
   "cell_type": "markdown",
   "metadata": {},
   "source": [
    "https://medium.com/%E9%9B%9E%E9%9B%9E%E8%88%87%E5%85%94%E5%85%94%E7%9A%84%E5%B7%A5%E7%A8%8B%E4%B8%96%E7%95%8C/%E6%A9%9F%E5%99%A8%E5%AD%B8%E7%BF%92ml-note-sgd-momentum-adagrad-adam-optimizer-f20568c968db\n",
    "\n",
    "對於Optimizer來說，learning rate(學習率) η 相當的重要，太小會花費太多時間學習，太大有可能會造成overfitting，無法正確學習，前面幾種Optimizer的學習率 η，都為固定值，而AdaGrad就是會依照梯度去調整 learning rate η 的優化器，Ada對我來說就是Adaptive的意思\n",
    "\n",
    "Adam Optimizer 其實可以說就是把前面介紹的Momentum 跟 AdaGrad這二種Optimizer做結合，\n",
    "\n",
    "Adam 保留了 Momentum 對過去梯度的方向做梯度速度調整與Adam對過去梯度的平方值做learning rate的調整，再加上Adam有做參數的”偏離校正”，使得每一次的學習率都會有個確定的範圍，會讓參數的更新較為平穩。\n",
    "\n",
    "binary_crossentropy交叉熵损失函数，一般用于二分类："
   ]
  },
  {
   "cell_type": "code",
   "execution_count": 82,
   "metadata": {
    "colab": {},
    "colab_type": "code",
    "id": "fG3RrwDXZEaS"
   },
   "outputs": [],
   "source": [
    "ann.compile(optimizer = 'adam', loss = 'binary_crossentropy', metrics = ['accuracy'])"
   ]
  },
  {
   "cell_type": "markdown",
   "metadata": {
    "colab_type": "text",
    "id": "0QR_G5u7ZLSM"
   },
   "source": [
    "### Training the ANN on the Training set"
   ]
  },
  {
   "cell_type": "code",
   "execution_count": 83,
   "metadata": {
    "colab": {
     "base_uri": "https://localhost:8080/",
     "height": 1000
    },
    "colab_type": "code",
    "executionInfo": {
     "elapsed": 33685,
     "status": "ok",
     "timestamp": 1590257481284,
     "user": {
      "displayName": "Hadelin de Ponteves",
      "photoUrl": "https://lh3.googleusercontent.com/a-/AOh14GhEuXdT7eQweUmRPW8_laJuPggSK6hfvpl5a6WBaA=s64",
      "userId": "15047218817161520419"
     },
     "user_tz": -240
    },
    "id": "nHZ-LKv_ZRb3",
    "outputId": "718cc4b0-b5aa-40f0-9b20-d3d31730a531"
   },
   "outputs": [
    {
     "name": "stdout",
     "output_type": "stream",
     "text": [
      "Epoch 1/100\n",
      "250/250 [==============================] - 1s 826us/step - loss: 0.5360 - accuracy: 0.7833\n",
      "Epoch 2/100\n",
      "250/250 [==============================] - 0s 774us/step - loss: 0.4675 - accuracy: 0.7983\n",
      "Epoch 3/100\n",
      "250/250 [==============================] - 0s 883us/step - loss: 0.4509 - accuracy: 0.7943\n",
      "Epoch 4/100\n",
      "250/250 [==============================] - 0s 798us/step - loss: 0.4366 - accuracy: 0.7992\n",
      "Epoch 5/100\n",
      "250/250 [==============================] - 0s 855us/step - loss: 0.4330 - accuracy: 0.8094\n",
      "Epoch 6/100\n",
      "250/250 [==============================] - 0s 915us/step - loss: 0.4280 - accuracy: 0.8120\n",
      "Epoch 7/100\n",
      "250/250 [==============================] - 0s 766us/step - loss: 0.4161 - accuracy: 0.8246\n",
      "Epoch 8/100\n",
      "250/250 [==============================] - 0s 770us/step - loss: 0.4070 - accuracy: 0.8303\n",
      "Epoch 9/100\n",
      "250/250 [==============================] - 0s 762us/step - loss: 0.4000 - accuracy: 0.8317\n",
      "Epoch 10/100\n",
      "250/250 [==============================] - 0s 762us/step - loss: 0.3932 - accuracy: 0.8354\n",
      "Epoch 11/100\n",
      "250/250 [==============================] - 0s 782us/step - loss: 0.3926 - accuracy: 0.8329\n",
      "Epoch 12/100\n",
      "250/250 [==============================] - 0s 762us/step - loss: 0.3891 - accuracy: 0.8348\n",
      "Epoch 13/100\n",
      "250/250 [==============================] - 0s 774us/step - loss: 0.3900 - accuracy: 0.8329\n",
      "Epoch 14/100\n",
      "250/250 [==============================] - 0s 770us/step - loss: 0.3962 - accuracy: 0.8325\n",
      "Epoch 15/100\n",
      "250/250 [==============================] - 0s 762us/step - loss: 0.3856 - accuracy: 0.8332\n",
      "Epoch 16/100\n",
      "250/250 [==============================] - 0s 810us/step - loss: 0.3811 - accuracy: 0.8348\n",
      "Epoch 17/100\n",
      "250/250 [==============================] - 0s 778us/step - loss: 0.3676 - accuracy: 0.8424\n",
      "Epoch 18/100\n",
      "250/250 [==============================] - 0s 798us/step - loss: 0.3639 - accuracy: 0.8480\n",
      "Epoch 19/100\n",
      "250/250 [==============================] - 0s 782us/step - loss: 0.3720 - accuracy: 0.8410\n",
      "Epoch 20/100\n",
      "250/250 [==============================] - 0s 782us/step - loss: 0.3510 - accuracy: 0.8528\n",
      "Epoch 21/100\n",
      "250/250 [==============================] - 0s 863us/step - loss: 0.3645 - accuracy: 0.8460\n",
      "Epoch 22/100\n",
      "250/250 [==============================] - 0s 806us/step - loss: 0.3601 - accuracy: 0.8481\n",
      "Epoch 23/100\n",
      "250/250 [==============================] - 0s 802us/step - loss: 0.3523 - accuracy: 0.8527\n",
      "Epoch 24/100\n",
      "250/250 [==============================] - 0s 770us/step - loss: 0.3668 - accuracy: 0.8462\n",
      "Epoch 25/100\n",
      "250/250 [==============================] - 0s 798us/step - loss: 0.3454 - accuracy: 0.8556\n",
      "Epoch 26/100\n",
      "250/250 [==============================] - 0s 810us/step - loss: 0.3475 - accuracy: 0.8618\n",
      "Epoch 27/100\n",
      "250/250 [==============================] - 0s 758us/step - loss: 0.3516 - accuracy: 0.8553\n",
      "Epoch 28/100\n",
      "250/250 [==============================] - 0s 830us/step - loss: 0.3493 - accuracy: 0.8551\n",
      "Epoch 29/100\n",
      "250/250 [==============================] - 0s 766us/step - loss: 0.3482 - accuracy: 0.8577\n",
      "Epoch 30/100\n",
      "250/250 [==============================] - 0s 971us/step - loss: 0.3424 - accuracy: 0.8590\n",
      "Epoch 31/100\n",
      "250/250 [==============================] - 0s 806us/step - loss: 0.3435 - accuracy: 0.8565\n",
      "Epoch 32/100\n",
      "250/250 [==============================] - 0s 855us/step - loss: 0.3497 - accuracy: 0.8540\n",
      "Epoch 33/100\n",
      "250/250 [==============================] - 0s 995us/step - loss: 0.3455 - accuracy: 0.8604\n",
      "Epoch 34/100\n",
      "250/250 [==============================] - 0s 758us/step - loss: 0.3474 - accuracy: 0.8568\n",
      "Epoch 35/100\n",
      "250/250 [==============================] - 0s 778us/step - loss: 0.3453 - accuracy: 0.8587\n",
      "Epoch 36/100\n",
      "250/250 [==============================] - 0s 762us/step - loss: 0.3401 - accuracy: 0.8621\n",
      "Epoch 37/100\n",
      "250/250 [==============================] - 0s 939us/step - loss: 0.3440 - accuracy: 0.8593\n",
      "Epoch 38/100\n",
      "250/250 [==============================] - 0s 810us/step - loss: 0.3448 - accuracy: 0.8611\n",
      "Epoch 39/100\n",
      "250/250 [==============================] - 0s 750us/step - loss: 0.3280 - accuracy: 0.8676\n",
      "Epoch 40/100\n",
      "250/250 [==============================] - 0s 834us/step - loss: 0.3302 - accuracy: 0.8651\n",
      "Epoch 41/100\n",
      "250/250 [==============================] - 0s 778us/step - loss: 0.3339 - accuracy: 0.8635\n",
      "Epoch 42/100\n",
      "250/250 [==============================] - 0s 766us/step - loss: 0.3550 - accuracy: 0.8529\n",
      "Epoch 43/100\n",
      "250/250 [==============================] - 0s 766us/step - loss: 0.3296 - accuracy: 0.8676\n",
      "Epoch 44/100\n",
      "250/250 [==============================] - 0s 754us/step - loss: 0.3323 - accuracy: 0.8629\n",
      "Epoch 45/100\n",
      "250/250 [==============================] - 0s 830us/step - loss: 0.3404 - accuracy: 0.8651\n",
      "Epoch 46/100\n",
      "250/250 [==============================] - 0s 762us/step - loss: 0.3397 - accuracy: 0.8649\n",
      "Epoch 47/100\n",
      "250/250 [==============================] - 0s 782us/step - loss: 0.3485 - accuracy: 0.8566\n",
      "Epoch 48/100\n",
      "250/250 [==============================] - 0s 794us/step - loss: 0.3418 - accuracy: 0.8641\n",
      "Epoch 49/100\n",
      "250/250 [==============================] - 0s 754us/step - loss: 0.3440 - accuracy: 0.8604\n",
      "Epoch 50/100\n",
      "250/250 [==============================] - 0s 891us/step - loss: 0.3396 - accuracy: 0.8625\n",
      "Epoch 51/100\n",
      "250/250 [==============================] - 0s 782us/step - loss: 0.3394 - accuracy: 0.8573\n",
      "Epoch 52/100\n",
      "250/250 [==============================] - 0s 774us/step - loss: 0.3344 - accuracy: 0.8632\n",
      "Epoch 53/100\n",
      "250/250 [==============================] - 0s 794us/step - loss: 0.3300 - accuracy: 0.8677\n",
      "Epoch 54/100\n",
      "250/250 [==============================] - 0s 722us/step - loss: 0.3384 - accuracy: 0.8642\n",
      "Epoch 55/100\n",
      "250/250 [==============================] - 0s 766us/step - loss: 0.3376 - accuracy: 0.8643\n",
      "Epoch 56/100\n",
      "250/250 [==============================] - 0s 774us/step - loss: 0.3265 - accuracy: 0.8702\n",
      "Epoch 57/100\n",
      "250/250 [==============================] - 0s 887us/step - loss: 0.3448 - accuracy: 0.8603\n",
      "Epoch 58/100\n",
      "250/250 [==============================] - 0s 907us/step - loss: 0.3368 - accuracy: 0.8666\n",
      "Epoch 59/100\n",
      "250/250 [==============================] - 0s 867us/step - loss: 0.3258 - accuracy: 0.8680\n",
      "Epoch 60/100\n",
      "250/250 [==============================] - 0s 1ms/step - loss: 0.3367 - accuracy: 0.8660\n",
      "Epoch 61/100\n",
      "250/250 [==============================] - 0s 967us/step - loss: 0.3388 - accuracy: 0.8665\n",
      "Epoch 62/100\n",
      "250/250 [==============================] - 0s 754us/step - loss: 0.3467 - accuracy: 0.8602\n",
      "Epoch 63/100\n",
      "250/250 [==============================] - 0s 806us/step - loss: 0.3380 - accuracy: 0.8615\n",
      "Epoch 64/100\n",
      "250/250 [==============================] - 0s 774us/step - loss: 0.3267 - accuracy: 0.8669\n",
      "Epoch 65/100\n",
      "250/250 [==============================] - 0s 1ms/step - loss: 0.3260 - accuracy: 0.8727\n",
      "Epoch 66/100\n",
      "250/250 [==============================] - 0s 955us/step - loss: 0.3494 - accuracy: 0.8541\n",
      "Epoch 67/100\n",
      "250/250 [==============================] - 0s 1ms/step - loss: 0.3380 - accuracy: 0.8595\n",
      "Epoch 68/100\n",
      "250/250 [==============================] - 0s 995us/step - loss: 0.3299 - accuracy: 0.8689\n",
      "Epoch 69/100\n",
      "250/250 [==============================] - 0s 947us/step - loss: 0.3395 - accuracy: 0.8665\n",
      "Epoch 70/100\n",
      "250/250 [==============================] - 0s 1ms/step - loss: 0.3410 - accuracy: 0.8626\n",
      "Epoch 71/100\n",
      "250/250 [==============================] - 0s 1ms/step - loss: 0.3342 - accuracy: 0.8625\n",
      "Epoch 72/100\n",
      "250/250 [==============================] - 0s 911us/step - loss: 0.3305 - accuracy: 0.8667\n",
      "Epoch 73/100\n",
      "250/250 [==============================] - 0s 1ms/step - loss: 0.3465 - accuracy: 0.8572\n",
      "Epoch 74/100\n",
      "250/250 [==============================] - 0s 931us/step - loss: 0.3321 - accuracy: 0.8689\n",
      "Epoch 75/100\n",
      "250/250 [==============================] - 0s 762us/step - loss: 0.3347 - accuracy: 0.8650\n",
      "Epoch 76/100\n",
      "250/250 [==============================] - 0s 782us/step - loss: 0.3272 - accuracy: 0.8659\n",
      "Epoch 77/100\n",
      "250/250 [==============================] - 0s 939us/step - loss: 0.3404 - accuracy: 0.8613\n",
      "Epoch 78/100\n",
      "250/250 [==============================] - 0s 915us/step - loss: 0.3397 - accuracy: 0.8623\n",
      "Epoch 79/100\n",
      "250/250 [==============================] - 0s 855us/step - loss: 0.3251 - accuracy: 0.8682\n"
     ]
    },
    {
     "name": "stdout",
     "output_type": "stream",
     "text": [
      "Epoch 80/100\n",
      "250/250 [==============================] - 0s 782us/step - loss: 0.3342 - accuracy: 0.8631\n",
      "Epoch 81/100\n",
      "250/250 [==============================] - 0s 778us/step - loss: 0.3379 - accuracy: 0.8674\n",
      "Epoch 82/100\n",
      "250/250 [==============================] - 0s 770us/step - loss: 0.3259 - accuracy: 0.8677\n",
      "Epoch 83/100\n",
      "250/250 [==============================] - 0s 778us/step - loss: 0.3343 - accuracy: 0.8631\n",
      "Epoch 84/100\n",
      "250/250 [==============================] - 0s 798us/step - loss: 0.3397 - accuracy: 0.8603\n",
      "Epoch 85/100\n",
      "250/250 [==============================] - 0s 798us/step - loss: 0.3225 - accuracy: 0.8758\n",
      "Epoch 86/100\n",
      "250/250 [==============================] - 0s 774us/step - loss: 0.3307 - accuracy: 0.8721\n",
      "Epoch 87/100\n",
      "250/250 [==============================] - 0s 774us/step - loss: 0.3338 - accuracy: 0.8646\n",
      "Epoch 88/100\n",
      "250/250 [==============================] - 0s 806us/step - loss: 0.3398 - accuracy: 0.8589\n",
      "Epoch 89/100\n",
      "250/250 [==============================] - 0s 959us/step - loss: 0.3392 - accuracy: 0.8634\n",
      "Epoch 90/100\n",
      "250/250 [==============================] - 0s 798us/step - loss: 0.3234 - accuracy: 0.8733\n",
      "Epoch 91/100\n",
      "250/250 [==============================] - 0s 794us/step - loss: 0.3373 - accuracy: 0.8636\n",
      "Epoch 92/100\n",
      "250/250 [==============================] - 0s 943us/step - loss: 0.3429 - accuracy: 0.8653\n",
      "Epoch 93/100\n",
      "250/250 [==============================] - 0s 798us/step - loss: 0.3298 - accuracy: 0.8677\n",
      "Epoch 94/100\n",
      "250/250 [==============================] - 0s 766us/step - loss: 0.3471 - accuracy: 0.8618\n",
      "Epoch 95/100\n",
      "250/250 [==============================] - 0s 806us/step - loss: 0.3450 - accuracy: 0.8606\n",
      "Epoch 96/100\n",
      "250/250 [==============================] - 0s 770us/step - loss: 0.3315 - accuracy: 0.8665\n",
      "Epoch 97/100\n",
      "250/250 [==============================] - 0s 778us/step - loss: 0.3202 - accuracy: 0.8710\n",
      "Epoch 98/100\n",
      "250/250 [==============================] - 0s 774us/step - loss: 0.3265 - accuracy: 0.8665\n",
      "Epoch 99/100\n",
      "250/250 [==============================] - 0s 782us/step - loss: 0.3342 - accuracy: 0.8683\n",
      "Epoch 100/100\n",
      "250/250 [==============================] - 0s 794us/step - loss: 0.3322 - accuracy: 0.8679\n"
     ]
    },
    {
     "data": {
      "text/plain": [
       "<tensorflow.python.keras.callbacks.History at 0x26333aa0670>"
      ]
     },
     "execution_count": 83,
     "metadata": {},
     "output_type": "execute_result"
    }
   ],
   "source": [
    "ann.fit(X_train, y_train, batch_size = 32, epochs = 100)"
   ]
  },
  {
   "cell_type": "markdown",
   "metadata": {
    "colab_type": "text",
    "id": "tJj5k2MxZga3"
   },
   "source": [
    "## Part 4 - Making the predictions and evaluating the model"
   ]
  },
  {
   "cell_type": "markdown",
   "metadata": {
    "colab_type": "text",
    "id": "84QFoqGYeXHL"
   },
   "source": [
    "### Predicting the result of a single observation"
   ]
  },
  {
   "cell_type": "markdown",
   "metadata": {
    "colab_type": "text",
    "id": "CGRo3eacgDdC"
   },
   "source": [
    "**Homework**\n",
    "\n",
    "Use our ANN model to predict if the customer with the following informations will leave the bank: \n",
    "\n",
    "Geography: France\n",
    "\n",
    "Credit Score: 600\n",
    "\n",
    "Gender: Male\n",
    "\n",
    "Age: 40 years old\n",
    "\n",
    "Tenure: 3 years\n",
    "\n",
    "Balance: \\$ 60000\n",
    "\n",
    "Number of Products: 2\n",
    "\n",
    "Does this customer have a credit card? Yes\n",
    "\n",
    "Is this customer an Active Member: Yes\n",
    "\n",
    "Estimated Salary: \\$ 50000\n",
    "\n",
    "So, should we say goodbye to that customer?"
   ]
  },
  {
   "cell_type": "markdown",
   "metadata": {
    "colab_type": "text",
    "id": "ZhU1LTgPg-kH"
   },
   "source": [
    "**Solution**"
   ]
  },
  {
   "cell_type": "code",
   "execution_count": 84,
   "metadata": {
    "colab": {
     "base_uri": "https://localhost:8080/",
     "height": 34
    },
    "colab_type": "code",
    "executionInfo": {
     "elapsed": 33990,
     "status": "ok",
     "timestamp": 1590257481594,
     "user": {
      "displayName": "Hadelin de Ponteves",
      "photoUrl": "https://lh3.googleusercontent.com/a-/AOh14GhEuXdT7eQweUmRPW8_laJuPggSK6hfvpl5a6WBaA=s64",
      "userId": "15047218817161520419"
     },
     "user_tz": -240
    },
    "id": "2d8IoCCkeWGL",
    "outputId": "957f3970-e197-4c3b-a150-7f69dc567f5d"
   },
   "outputs": [
    {
     "name": "stdout",
     "output_type": "stream",
     "text": [
      "[[False]]\n"
     ]
    }
   ],
   "source": [
    "print(ann.predict(sc.transform([[1, 0, 0, 600, 1, 40, 3, 60000, 2, 1, 1, 50000]])) > 0.5)"
   ]
  },
  {
   "cell_type": "markdown",
   "metadata": {
    "colab_type": "text",
    "id": "wGjx94g2n7OV"
   },
   "source": [
    "Therefore, our ANN model predicts that this customer stays in the bank!\n",
    "\n",
    "**Important note 1:** Notice that the values of the features were all input in a double pair of square brackets. That's because the \"predict\" method always expects a 2D array as the format of its inputs. And putting our values into a double pair of square brackets makes the input exactly a 2D array.\n",
    "\n",
    "**Important note 2:** Notice also that the \"France\" country was not input as a string in the last column but as \"1, 0, 0\" in the first three columns. That's because of course the predict method expects the one-hot-encoded values of the state, and as we see in the first row of the matrix of features X, \"France\" was encoded as \"1, 0, 0\". And be careful to include these values in the first three columns, because the dummy variables are always created in the first columns."
   ]
  },
  {
   "cell_type": "markdown",
   "metadata": {
    "colab_type": "text",
    "id": "u7yx47jPZt11"
   },
   "source": [
    "### Predicting the Test set results"
   ]
  },
  {
   "cell_type": "markdown",
   "metadata": {},
   "source": [
    "### additional testing"
   ]
  },
  {
   "cell_type": "markdown",
   "metadata": {},
   "source": [
    "reshape =>>> numpy function\n",
    "\n",
    "import numpy as np\n",
    "\n",
    "arrayA = np.arange(8)\n",
    "=>>> arrayA = array([0, 1, 2, 3, 4, 5, 6, 7])\n",
    "\n",
    "np.reshape(arrayA, (2, 4))\n",
    "=>>> array([[0, 1, 2, 3],\n",
    "       [4, 5, 6, 7]])\n",
    "       \n",
    "to show the result side by side"
   ]
  },
  {
   "cell_type": "markdown",
   "metadata": {},
   "source": [
    "### additional testing"
   ]
  },
  {
   "cell_type": "code",
   "execution_count": 85,
   "metadata": {
    "scrolled": true
   },
   "outputs": [
    {
     "data": {
      "text/plain": [
       "array([[0, 0],\n",
       "       [1, 1],\n",
       "       [0, 0],\n",
       "       ...,\n",
       "       [0, 0],\n",
       "       [0, 0],\n",
       "       [0, 0]], dtype=int64)"
      ]
     },
     "execution_count": 85,
     "metadata": {},
     "output_type": "execute_result"
    }
   ],
   "source": [
    "np.concatenate((y_test.reshape(len(y_test),1), y_test.reshape(len(y_test),1)),1)"
   ]
  },
  {
   "cell_type": "code",
   "execution_count": 86,
   "metadata": {
    "colab": {
     "base_uri": "https://localhost:8080/",
     "height": 137
    },
    "colab_type": "code",
    "executionInfo": {
     "elapsed": 33987,
     "status": "ok",
     "timestamp": 1590257481595,
     "user": {
      "displayName": "Hadelin de Ponteves",
      "photoUrl": "https://lh3.googleusercontent.com/a-/AOh14GhEuXdT7eQweUmRPW8_laJuPggSK6hfvpl5a6WBaA=s64",
      "userId": "15047218817161520419"
     },
     "user_tz": -240
    },
    "id": "nIyEeQdRZwgs",
    "outputId": "82330ba8-9bdc-4fd1-d3cf-b6d78ee7c2a3"
   },
   "outputs": [
    {
     "name": "stdout",
     "output_type": "stream",
     "text": [
      "[[0 0]\n",
      " [0 1]\n",
      " [0 0]\n",
      " ...\n",
      " [0 0]\n",
      " [0 0]\n",
      " [0 0]]\n"
     ]
    }
   ],
   "source": [
    "y_pred = ann.predict(X_test)\n",
    "y_pred = (y_pred > 0.5)\n",
    "print(np.concatenate((y_pred.reshape(len(y_pred),1), y_test.reshape(len(y_test),1)),1))"
   ]
  },
  {
   "cell_type": "markdown",
   "metadata": {
    "colab_type": "text",
    "id": "o0oyfLWoaEGw"
   },
   "source": [
    "### Making the Confusion Matrix"
   ]
  },
  {
   "cell_type": "code",
   "execution_count": 87,
   "metadata": {
    "colab": {
     "base_uri": "https://localhost:8080/",
     "height": 68
    },
    "colab_type": "code",
    "executionInfo": {
     "elapsed": 33981,
     "status": "ok",
     "timestamp": 1590257481595,
     "user": {
      "displayName": "Hadelin de Ponteves",
      "photoUrl": "https://lh3.googleusercontent.com/a-/AOh14GhEuXdT7eQweUmRPW8_laJuPggSK6hfvpl5a6WBaA=s64",
      "userId": "15047218817161520419"
     },
     "user_tz": -240
    },
    "id": "ci6K_r6LaF6P",
    "outputId": "4d854e9e-22d5-432f-f6e5-a102fe3ae0bd"
   },
   "outputs": [
    {
     "name": "stdout",
     "output_type": "stream",
     "text": [
      "[[1535   60]\n",
      " [ 213  192]]\n"
     ]
    },
    {
     "data": {
      "text/plain": [
       "0.8635"
      ]
     },
     "execution_count": 87,
     "metadata": {},
     "output_type": "execute_result"
    }
   ],
   "source": [
    "from sklearn.metrics import confusion_matrix, accuracy_score\n",
    "cm = confusion_matrix(y_test, y_pred) # correct vs prediction\n",
    "print(cm)\n",
    "accuracy_score(y_test, y_pred)"
   ]
  },
  {
   "cell_type": "code",
   "execution_count": null,
   "metadata": {},
   "outputs": [],
   "source": []
  }
 ],
 "metadata": {
  "colab": {
   "authorship_tag": "ABX9TyMeRFWFoGrdaL5S3dx5MWmb",
   "collapsed_sections": [],
   "name": "artificial_neural_network.ipynb",
   "provenance": [],
   "toc_visible": true
  },
  "kernelspec": {
   "display_name": "Python 3",
   "language": "python",
   "name": "python3"
  },
  "language_info": {
   "codemirror_mode": {
    "name": "ipython",
    "version": 3
   },
   "file_extension": ".py",
   "mimetype": "text/x-python",
   "name": "python",
   "nbconvert_exporter": "python",
   "pygments_lexer": "ipython3",
   "version": "3.8.5"
  }
 },
 "nbformat": 4,
 "nbformat_minor": 1
}
